{
 "metadata": {
  "kernelspec": {
   "display_name": "Streamlit Notebook",
   "name": "streamlit"
  }
 },
 "nbformat_minor": 5,
 "nbformat": 4,
 "cells": [
  {
   "cell_type": "markdown",
   "id": "9c558065-be24-476c-adfa-1eae8f458ecf",
   "metadata": {
    "name": "cell1",
    "collapsed": false,
    "resultHeight": 125
   },
   "source": "## Prepare Data\n  ***"
  },
  {
   "cell_type": "code",
   "id": "3775908f-ca36-4846-8f38-5adca39217f2",
   "metadata": {
    "language": "python",
    "name": "cell2",
    "collapsed": false,
    "resultHeight": 0
   },
   "source": "# Import python packages\nimport streamlit as st\nimport matplotlib.pyplot as plt\nimport seaborn as sns",
   "execution_count": null,
   "outputs": []
  },
  {
   "cell_type": "code",
   "id": "748693f5-2ca4-4d80-9f48-73eb8fb2f48a",
   "metadata": {
    "language": "python",
    "name": "cell3",
    "collapsed": false,
    "resultHeight": 71
   },
   "outputs": [],
   "source": "#import snowpark & snow-pandas packages\n#Snowflake pandas(modin) is way more friendly than pandas in large-scale(millions) \nimport modin.pandas as spd\nimport snowflake.snowpark.modin.plugin\n\nfrom snowflake.snowpark.context import get_active_session\nsession = get_active_session()",
   "execution_count": null
  },
  {
   "cell_type": "code",
   "id": "745d59a9-ca41-4c05-9905-b87f687615bb",
   "metadata": {
    "language": "python",
    "name": "cell4",
    "collapsed": false,
    "resultHeight": 0
   },
   "outputs": [],
   "source": "#read data\n#snowflake has the advantage to not load in RAM(just connection)\ndata_path='SNOWFLAKE_SAMPLE_DATA.TPCH_SF1'\nlineitem_keep_cols=['L_ORDERKEY','L_LINENUMBER','L_PARTKEY','L_RETURNFLAG','L_QUANTITY','L_DISCOUNT','L_EXTENDEDPRICE']\nlineitem_df=spd.read_snowflake(f'{data_path}.LINEITEM')[lineitem_keep_cols]",
   "execution_count": null
  },
  {
   "cell_type": "markdown",
   "id": "55de1216-eaa8-49ee-a4ed-e60fbc354048",
   "metadata": {
    "name": "cell5",
    "collapsed": false,
    "resultHeight": 125
   },
   "source": "## Explore Data\n  ***"
  },
  {
   "cell_type": "code",
   "id": "10d9ebd9-6d6e-45cd-843e-45c4b55a6678",
   "metadata": {
    "language": "python",
    "name": "cell6",
    "collapsed": false,
    "resultHeight": 235
   },
   "outputs": [],
   "source": "#preview\nst.dataframe(lineitem_df.head())",
   "execution_count": null
  },
  {
   "cell_type": "code",
   "id": "f1a2822f-7d08-42d2-a365-0e90af84c77c",
   "metadata": {
    "language": "python",
    "name": "cell7",
    "collapsed": false,
    "resultHeight": 38
   },
   "outputs": [],
   "source": "print(lineitem_df.shape)\n#6M rows, 7col",
   "execution_count": null
  },
  {
   "cell_type": "code",
   "id": "0265fb59-f3cf-483f-9b4b-3484febda262",
   "metadata": {
    "language": "python",
    "name": "cell33",
    "collapsed": false,
    "resultHeight": 329
   },
   "outputs": [],
   "source": "lineitem_df.info()",
   "execution_count": null
  },
  {
   "cell_type": "code",
   "id": "6f977749-aa03-4f32-8508-daa1c341b40d",
   "metadata": {
    "language": "python",
    "name": "cell34",
    "collapsed": false,
    "resultHeight": 127
   },
   "outputs": [],
   "source": "#group by, count\nprint(lineitem_df.L_RETURNFLAG.value_counts())",
   "execution_count": null
  },
  {
   "cell_type": "markdown",
   "id": "93e46272-01d6-4483-af0b-d1a11170c066",
   "metadata": {
    "name": "cell13",
    "collapsed": false,
    "resultHeight": 125
   },
   "source": "## Transform Data\n  ***"
  },
  {
   "cell_type": "code",
   "id": "bc40028c-5616-4506-9aa8-05b34e896bc4",
   "metadata": {
    "language": "python",
    "name": "cell8",
    "collapsed": false,
    "resultHeight": 38
   },
   "outputs": [],
   "source": "#filter\nlineitem_df_skim =lineitem_df[lineitem_df['L_RETURNFLAG']!='A']\nprint(f'rows before filter: {len(lineitem_df)}, rows after filter: {len(lineitem_df_skim)}')\n",
   "execution_count": null
  },
  {
   "cell_type": "code",
   "id": "f9c0acb9-57b9-41fe-8be8-76c9aefb66ab",
   "metadata": {
    "language": "python",
    "name": "cell9",
    "collapsed": false,
    "resultHeight": 235
   },
   "outputs": [],
   "source": "#create new col\nlineitem_df_skim['REVENUE']=lineitem_df_skim['L_EXTENDEDPRICE']*lineitem_df_skim['L_QUANTITY']\nst.dataframe(lineitem_df_skim.head())",
   "execution_count": null
  },
  {
   "cell_type": "code",
   "id": "7e474673-e1e1-416e-967f-e4ac7f9f7c6d",
   "metadata": {
    "language": "python",
    "name": "cell10",
    "collapsed": false,
    "resultHeight": 235
   },
   "outputs": [],
   "source": "#group by, agg table\ncolumn_agg={\n    'L_QUANTITY':['sum'],\n    'REVENUE':['sum'] #'mean' for avg.\n    } \n\nlineitem_df_header=lineitem_df_skim.groupby(by=['L_ORDERKEY','L_RETURNFLAG'],as_index=False).agg(column_agg)\nlineitem_df_header.columns=['L_ORDERKEY','L_RETURNFLAG','SUM_ITEMS','SUM_REVENUE']\nst.dataframe(lineitem_df_header.head())",
   "execution_count": null
  },
  {
   "cell_type": "code",
   "id": "11a7405c-607d-4d7c-8871-70c759df1855",
   "metadata": {
    "language": "python",
    "name": "cell14",
    "collapsed": false,
    "resultHeight": 270
   },
   "outputs": [],
   "source": "#group by, pivot table\nlineitem_df_header_pivot = lineitem_df_header.pivot_table(\n    values=['SUM_ITEMS','SUM_REVENUE'],\n    index=['L_ORDERKEY'],\n    columns=['L_RETURNFLAG'],\n    aggfunc='sum'\n)\nst.dataframe(lineitem_df_header_pivot.head())                         ",
   "execution_count": null
  },
  {
   "cell_type": "code",
   "id": "c76fdeb5-8a59-4915-86ac-ddc6d3d16edd",
   "metadata": {
    "language": "python",
    "name": "cell15",
    "collapsed": false,
    "resultHeight": 235
   },
   "outputs": [],
   "source": "#format pivot table into df\nlineitem_df_header_pivot_df=lineitem_df_header_pivot.reset_index(names='L_ORDERKEY')\nlineitem_df_header_pivot_df.columns=['L_ORDERKEY','SUM_ITEMS_N','SUM_ITEMS_R','SUM_REVENUE_N','SUM_REVENUE_R']\nst.dataframe(lineitem_df_header_pivot_df.head())                         ",
   "execution_count": null
  },
  {
   "cell_type": "markdown",
   "id": "379f82d5-d715-4f75-afc9-862dfe86cf84",
   "metadata": {
    "name": "cell16",
    "collapsed": false,
    "resultHeight": 125
   },
   "source": "## Join Data\n  ***"
  },
  {
   "cell_type": "code",
   "id": "87e01865-73f2-4190-b05e-362115bd1b32",
   "metadata": {
    "language": "python",
    "name": "cell17",
    "collapsed": false,
    "resultHeight": 235
   },
   "outputs": [],
   "source": "#read data2\n#snowflake has the advantage to not load in RAM(just connection), way more friendly for scaling up\norder_keep_cols=['O_ORDERKEY','O_CUSTKEY','O_ORDERSTATUS','O_TOTALPRICE','O_ORDERDATE']\norder_df=spd.read_snowflake(f'{data_path}.ORDERS')[order_keep_cols]\nst.dataframe(order_df.head())",
   "execution_count": null
  },
  {
   "cell_type": "code",
   "id": "de085091-89ff-4b42-ab37-cf9878a0f74c",
   "metadata": {
    "language": "python",
    "name": "cell18",
    "collapsed": false,
    "resultHeight": 277
   },
   "outputs": [],
   "source": "#join df\nitems_order_df=lineitem_df_header_pivot_df.merge(order_df,\n                                                left_on='L_ORDERKEY',\n                                                right_on='O_ORDERKEY',\n                                                how='left')\nitems_order_df.drop('O_ORDERKEY',axis=1,inplace=True)\nitems_order_df.shape\nst.dataframe(items_order_df.head())",
   "execution_count": null
  },
  {
   "cell_type": "markdown",
   "id": "3147eadc-869a-4e5f-a49f-062e84006127",
   "metadata": {
    "name": "cell20",
    "collapsed": false,
    "resultHeight": 125
   },
   "source": "## Load Data\n  ***"
  },
  {
   "cell_type": "code",
   "id": "7f632c07-bbad-4f3c-a045-95a1484ae6e2",
   "metadata": {
    "language": "python",
    "name": "cell19",
    "collapsed": false,
    "resultHeight": 0
   },
   "outputs": [],
   "source": "#write to Snowflake table\nlineitem_df_header.to_snowflake(name='LINEITEM_HEADER',if_exists='replace',index=False)",
   "execution_count": null
  },
  {
   "cell_type": "code",
   "id": "80c518d4-0dc8-4355-860c-eccd7226477c",
   "metadata": {
    "language": "sql",
    "name": "cell21",
    "collapsed": false,
    "resultHeight": 251
   },
   "outputs": [],
   "source": "select * from LINEITEM_HEADER limit 5",
   "execution_count": null
  },
  {
   "cell_type": "markdown",
   "id": "b9d762ef-bb48-47bd-a6be-8c70dd205a89",
   "metadata": {
    "name": "cell22",
    "collapsed": false,
    "resultHeight": 125
   },
   "source": "## Visualize Data\n  ***"
  },
  {
   "cell_type": "code",
   "id": "dc3af7b3-3891-4709-b7ad-535ce4947b11",
   "metadata": {
    "language": "python",
    "name": "cell23",
    "collapsed": false,
    "resultHeight": 41
   },
   "outputs": [],
   "source": "#histogram distribution\nlineitem_df_header_pd=lineitem_df_header.to_pandas()\nfig,axes=plt.subplots(1,2,figsize=(15,3))\ncolnames=['SUM_ITEMS','SUM_REVENUE']\nfor col,ax in zip(colnames,axes.flatten()):\n    ax.set_title(col)\n    sns.histplot(lineitem_df_header_pd,x=col,ax=ax,kde=True,stat='density',kde_kws=dict(cut=3),alpha=.4)\n    fig.tight_layout()",
   "execution_count": null
  },
  {
   "cell_type": "markdown",
   "id": "95402974-2672-485c-9cf6-cb4ce3a5f955",
   "metadata": {
    "name": "cell24",
    "collapsed": false,
    "resultHeight": 125
   },
   "source": "## Orchestrate Data Pipeline\n  ***"
  },
  {
   "cell_type": "code",
   "id": "818d26a1-5ea7-45b8-a494-edbfb4ea58a0",
   "metadata": {
    "language": "python",
    "name": "cell25",
    "collapsed": false,
    "resultHeight": 0
   },
   "outputs": [],
   "source": "from snowflake.core import Root\nfrom snowflake.core.task import Task\nfrom snowflake.core import CreateMode\nfrom snowflake.snowpark import Session\nroot = Root(session)",
   "execution_count": null
  },
  {
   "cell_type": "code",
   "id": "a25a7b40-1a4b-47eb-9f00-96b71c50dcb9",
   "metadata": {
    "language": "python",
    "name": "cell26",
    "collapsed": false,
    "resultHeight": 0
   },
   "outputs": [],
   "source": "#aggregate the previous ELT codes into 1 Python code\ndef create_header_table(session:Session, data_path:str) -> str:\n    from datetime import datetime\n    #read data\n    lineitem_keep_cols=['L_ORDERKEY','L_LINENUMBER','L_PARTKEY','L_RETURNFLAG','L_QUANTITY','L_DISCOUNT','L_EXTENDEDPRICE']\n    lineitem_df=spd.read_snowflake(f'{data_path}.LINEITEM')[lineitem_keep_cols]\n    \n    #filter\n    lineitem_df_skim =lineitem_df[lineitem_df['L_RETURNFLAG']!='A']\n    #create new col\n    lineitem_df_skim['REVENUE']=lineitem_df_skim['L_EXTENDEDPRICE']*lineitem_df_skim['L_QUANTITY']\n    \n    #group by, agg table\n    column_agg={\n        'L_QUANTITY':['sum'],\n        'REVENUE':['sum'] #'mean' for avg.\n        } \n    lineitem_df_header=lineitem_df_skim.groupby(by=['L_ORDERKEY','L_RETURNFLAG'],as_index=False).agg(column_agg)\n    lineitem_df_header.columns=['L_ORDERKEY','L_RETURNFLAG','SUM_ITEMS','SUM_REVENUE']\n    #group by, pivot table\n    lineitem_df_header_pivot = lineitem_df_header.pivot_table(\n    values=['SUM_ITEMS','SUM_REVENUE'],\n    index=['L_ORDERKEY'],\n    columns=['L_RETURNFLAG'],\n    aggfunc='sum'\n    )\n    #format pivot table into df\n    lineitem_df_header_pivot_df=lineitem_df_header_pivot.reset_index(names='L_ORDERKEY')\n    lineitem_df_header_pivot_df.columns=['L_ORDERKEY','SUM_ITEMS_N','SUM_ITEMS_R','SUM_REVENUE_N','SUM_REVENUE_R']\n\n    #write to Snowflake table\n    timestamp=datetime.now().strftime(\"%Y_%m_%d_%H_%M_%S\")\n    save_path=f\"LINEITEM_HEADER_{timestamp}\"\n    lineitem_df_header.to_snowflake(name=save_path,if_exists='replace',index=False)\n    return f\"Load Success at {timestamp}!\"\n",
   "execution_count": null
  },
  {
   "cell_type": "code",
   "id": "93abeba1-15e4-4118-9642-c2bcb97d2acb",
   "metadata": {
    "language": "sql",
    "name": "cell27",
    "collapsed": false,
    "resultHeight": 111
   },
   "outputs": [],
   "source": "--create stage\nCREATE STAGE IF NOT EXISTS task_code_stage;",
   "execution_count": null
  },
  {
   "cell_type": "code",
   "id": "4c23e1c0-40f7-4f38-993c-10b9a25b0e7e",
   "metadata": {
    "language": "python",
    "name": "cell28",
    "collapsed": false,
    "resultHeight": 0
   },
   "outputs": [],
   "source": "#create procedure\nsp_create_header_table =session.sproc.register(name='create_header_table_sp',\n                                              func=create_header_table,replace=True,\n                                              is_permanent=True,\n                                              packages=['streamlit==1.26.1','modin','snowflake-snowpark-python==1.17.0','pandas==2.2.1','snowflake'],\n                                              stage_location='@task_code_stage')",
   "execution_count": null
  },
  {
   "cell_type": "code",
   "id": "b55ffabe-2cbc-48ae-907b-04456418049c",
   "metadata": {
    "language": "python",
    "name": "cell29",
    "collapsed": false,
    "resultHeight": 0
   },
   "outputs": [],
   "source": "#schedule the procedure\nfrom datetime import timedelta\nmy_task=Task(name='task_create_header_table',\n            definition=f\"CALL create_header_table_sp('SNOWFLAKE_SAMPLE_DATA.TPCH_SF1')\",\n            schedule=timedelta(minutes=1))\ntasks=root.databases[session.get_current_database()].schemas[session.get_current_schema()].tasks\ntask_run=tasks.create(my_task,mode=CreateMode.or_replace)\n\n#new tasks are suspended, therefore need a resume\ntask_run.resume()",
   "execution_count": null
  },
  {
   "cell_type": "code",
   "id": "06dd5353-f072-4531-8403-c1213a789b58",
   "metadata": {
    "language": "sql",
    "name": "cell30",
    "collapsed": false,
    "resultHeight": 111
   },
   "outputs": [],
   "source": "SHOW TASKS LIKE 'task_create_header_table'",
   "execution_count": null
  },
  {
   "cell_type": "code",
   "id": "92b10d07-d966-47c1-9730-c162689bbd39",
   "metadata": {
    "language": "sql",
    "name": "cell11",
    "collapsed": false,
    "resultHeight": 111
   },
   "outputs": [],
   "source": "--sytax to call procedure manually\nCALL create_header_table_sp('SNOWFLAKE_SAMPLE_DATA.TPCH_SF1')",
   "execution_count": null
  }
 ]
}